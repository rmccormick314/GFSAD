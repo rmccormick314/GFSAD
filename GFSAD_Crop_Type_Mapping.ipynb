{
  "nbformat": 4,
  "nbformat_minor": 0,
  "metadata": {
    "colab": {
      "provenance": [],
      "include_colab_link": true
    },
    "kernelspec": {
      "name": "python3",
      "display_name": "Python 3"
    },
    "language_info": {
      "name": "python"
    }
  },
  "cells": [
    {
      "cell_type": "markdown",
      "metadata": {
        "id": "view-in-github",
        "colab_type": "text"
      },
      "source": [
        "<a href=\"https://colab.research.google.com/github/rmccormick314/GFSAD_Crop_Type_Mapping/blob/main/GFSAD_Crop_Type_Mapping.ipynb\" target=\"_parent\"><img src=\"https://colab.research.google.com/assets/colab-badge.svg\" alt=\"Open In Colab\"/></a>"
      ]
    },
    {
      "cell_type": "code",
      "execution_count": null,
      "metadata": {
        "id": "RB6geqNOdf49"
      },
      "outputs": [],
      "source": [
        "### 0. Initialize Google Earth Engine API\n",
        "\n",
        "# Import the Earth Engine package.\n",
        "import ee\n",
        "\n",
        "# Trigger the authentication flow.\n",
        "ee.Authenticate()\n",
        "\n",
        "# Initialize the library.\n",
        "ee.Initialize()"
      ]
    },
    {
      "cell_type": "code",
      "source": [
        "# 1a. Set Up the Working Environment\n",
        "\n",
        "#### Import the required packages and set the input/working directory.\n",
        "import requests as r\n",
        "import getpass, pprint, time, os, cgi\n",
        "\n",
        "#### Set input directory, change working directory\n",
        "inDir = \"./\" # Input directory needs to be set proper if running this in a real environment.\n",
        "os.chdir(inDir)\n",
        "api = 'https://appeears.earthdatacloud.nasa.gov/api/'\n",
        "\n",
        "#### Request username and password from user.\n",
        "user = getpass.getpass(prompt = 'Enter NASA Earthdata Login Username: ')\n",
        "password = getpass.getpass(prompt = 'Enter NASA Earthdata Login Password: ')\n",
        "\n",
        "#### Call the log-in service with credentials, acquire bearer token,\n",
        "#### and delete the user information once request is complete.\n",
        "token_response = r.post('{}login'.format(api), auth=(user, password)).json()\n",
        "del user, password\n",
        "\n",
        "token_response # Token is good for 48 hours"
      ],
      "metadata": {
        "colab": {
          "base_uri": "https://localhost:8080/"
        },
        "id": "mK9gil7xly9u",
        "outputId": "983f284a-9292-4a65-8495-cc95de161d52"
      },
      "execution_count": 1,
      "outputs": [
        {
          "name": "stdout",
          "output_type": "stream",
          "text": [
            "Enter NASA Earthdata Login Username: ··········\n",
            "Enter NASA Earthdata Login Password: ··········\n"
          ]
        },
        {
          "output_type": "execute_result",
          "data": {
            "text/plain": [
              "{'token_type': 'Bearer',\n",
              " 'token': 'UPLY0wFANsbWs6eqoD1lJQCpsK6Wb476g1UARdLSXGoM8aPmZMU9RLUg89eYxptE1TfkRUPH37YN3dPJYkTP-A',\n",
              " 'expiration': '2023-09-27T22:56:13Z'}"
            ]
          },
          "metadata": {},
          "execution_count": 1
        }
      ]
    },
    {
      "cell_type": "code",
      "source": [
        "# 2. Query Available Products\n",
        "# 2a. Search and Explore Available Products\n",
        "\n",
        "product_response = r.get('{}product'.format(api)).json()                         # request all products in the product service\n",
        "print('AρρEEARS currently supports {} products.'.format(len(product_response)))\n",
        "\n",
        "#### Next, create a dictionary indexed by product name, making it easier to query a specific product.\n",
        "products = {p['ProductAndVersion']: p for p in product_response} # Create a dictionary indexed by product name & version\n",
        "prods = ['HLSS30.020']\n",
        "\n",
        "lst_response = r.get('{}product/{}'.format(api, prods[0])).json()  # Request layers for the 1st product (index 0) in the list\n",
        "print(products['HLSS30.020']['Platform'])\n",
        "\n",
        "lai_response = r.get('{}product/{}'.format(api, prods[0])).json()  # Request layers for the 1st product (index 0) in the list: MCD15A3H.006\n",
        "list(lai_response.keys())                                          # Print the LAI layer names"
      ],
      "metadata": {
        "colab": {
          "base_uri": "https://localhost:8080/"
        },
        "id": "BAajxHzf4wLd",
        "outputId": "6d2533e9-9a3f-4163-c985-d712a86a3630"
      },
      "execution_count": 3,
      "outputs": [
        {
          "output_type": "stream",
          "name": "stdout",
          "text": [
            "AρρEEARS currently supports 120 products.\n",
            "Harmonized Landsat and Sentinel-2\n"
          ]
        },
        {
          "output_type": "execute_result",
          "data": {
            "text/plain": [
              "['B01',\n",
              " 'B02',\n",
              " 'B03',\n",
              " 'B04',\n",
              " 'B05',\n",
              " 'B06',\n",
              " 'B07',\n",
              " 'B08',\n",
              " 'B09',\n",
              " 'B10',\n",
              " 'B11',\n",
              " 'B12',\n",
              " 'B8A',\n",
              " 'Fmask',\n",
              " 'SAA',\n",
              " 'SZA',\n",
              " 'VAA',\n",
              " 'VZA']"
            ]
          },
          "metadata": {},
          "execution_count": 3
        }
      ]
    },
    {
      "cell_type": "code",
      "source": [],
      "metadata": {
        "id": "H3rELq1N6_at"
      },
      "execution_count": null,
      "outputs": []
    }
  ]
}