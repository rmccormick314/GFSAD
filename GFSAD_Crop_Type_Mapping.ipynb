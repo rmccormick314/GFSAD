{
  "nbformat": 4,
  "nbformat_minor": 0,
  "metadata": {
    "colab": {
      "provenance": [],
      "authorship_tag": "ABX9TyOIq38cfEzQepNqU4LE0u3N",
      "include_colab_link": true
    },
    "kernelspec": {
      "name": "python3",
      "display_name": "Python 3"
    },
    "language_info": {
      "name": "python"
    }
  },
  "cells": [
    {
      "cell_type": "markdown",
      "metadata": {
        "id": "view-in-github",
        "colab_type": "text"
      },
      "source": [
        "<a href=\"https://colab.research.google.com/github/rmccormick314/GFSAD_Crop_Type_Mapping/blob/main/GFSAD_Crop_Type_Mapping.ipynb\" target=\"_parent\"><img src=\"https://colab.research.google.com/assets/colab-badge.svg\" alt=\"Open In Colab\"/></a>"
      ]
    },
    {
      "cell_type": "code",
      "execution_count": null,
      "metadata": {
        "id": "RB6geqNOdf49"
      },
      "outputs": [],
      "source": [
        "### 0. Initialize Google Earth Engine API\n",
        "\n",
        "# Import the Earth Engine package.\n",
        "import ee\n",
        "\n",
        "# Trigger the authentication flow.\n",
        "ee.Authenticate()\n",
        "\n",
        "# Initialize the library.\n",
        "ee.Initialize()"
      ]
    },
    {
      "cell_type": "code",
      "source": [
        "# 1a. Set Up the Working Environment\n",
        "\n",
        "#### Import the required packages and set the input/working directory.\n",
        "import requests as r\n",
        "import getpass, pprint, time, os, cgi\n",
        "\n",
        "#### Set input directory, change working directory\n",
        "inDir = \"./\" # Input directory needs to be set proper if running this in a real environment.\n",
        "os.chdir(inDir)\n",
        "api = 'https://appeears.earthdatacloud.nasa.gov/api/'\n",
        "\n",
        "#### Request username and password from user.\n",
        "user = getpass.getpass(prompt = 'Enter NASA Earthdata Login Username: ')\n",
        "password = getpass.getpass(prompt = 'Enter NASA Earthdata Login Password: ')\n",
        "\n",
        "#### Call the log-in service with credentials, acquire bearer token,\n",
        "#### and delete the user information once request is complete.\n",
        "token_response = r.post('{}login'.format(api), auth=(user, password)).json()\n",
        "del user, password\n",
        "\n",
        "token_response # Token is good for 48 hours"
      ],
      "metadata": {
        "colab": {
          "base_uri": "https://localhost:8080/"
        },
        "id": "mK9gil7xly9u",
        "outputId": "79a0b79c-3d5b-4b1e-e94b-0767566c4f85"
      },
      "execution_count": 33,
      "outputs": [
        {
          "name": "stdout",
          "output_type": "stream",
          "text": [
            "Enter NASA Earthdata Login Username: ··········\n",
            "Enter NASA Earthdata Login Password: ··········\n"
          ]
        },
        {
          "output_type": "execute_result",
          "data": {
            "text/plain": [
              "{'token_type': 'Bearer',\n",
              " 'token': 'aflGTVtYd7UaaSd7Jtfp7lmnYl1Kwy2Z5h4Eae5boopm3AI9onqF2l5uGA7hKbL3WURMpS1rDssR99zxcboLMA',\n",
              " 'expiration': '2023-09-23T22:33:28Z'}"
            ]
          },
          "metadata": {},
          "execution_count": 33
        }
      ]
    },
    {
      "cell_type": "code",
      "source": [
        "# 2. Query Available Products\n",
        "# 2a. Search and Explore Available Products\n",
        "\n",
        "product_response = r.get('{}product'.format(api)).json()                         # request all products in the product service\n",
        "print('AρρEEARS currently supports {} products.'.format(len(product_response)))\n",
        "\n",
        "#### Next, create a dictionary indexed by product name, making it easier to query a specific product.\n",
        "products = {p['ProductAndVersion']: p for p in product_response} # Create a dictionary indexed by product name & version\n",
        "prods = ['HLSS30.020']\n",
        "\n",
        "lst_response = r.get('{}product/{}'.format(api, prods[0])).json()  # Request layers for the 1st product (index 0) in the list\n",
        "print(products['HLSS30.020']['Platform'])"
      ],
      "metadata": {
        "colab": {
          "base_uri": "https://localhost:8080/"
        },
        "id": "BAajxHzf4wLd",
        "outputId": "e6fb8612-9c7e-4159-9f2f-5bf3349ce444"
      },
      "execution_count": 30,
      "outputs": [
        {
          "output_type": "stream",
          "name": "stdout",
          "text": [
            "AρρEEARS currently supports 120 products.\n",
            "Harmonized Landsat and Sentinel-2\n"
          ]
        }
      ]
    },
    {
      "cell_type": "code",
      "source": [],
      "metadata": {
        "id": "H3rELq1N6_at"
      },
      "execution_count": null,
      "outputs": []
    }
  ]
}