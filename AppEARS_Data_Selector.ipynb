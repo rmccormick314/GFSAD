{
  "nbformat": 4,
  "nbformat_minor": 0,
  "metadata": {
    "colab": {
      "provenance": [],
      "authorship_tag": "ABX9TyN/EgKtuJOVyjp+hHZm30Nm",
      "include_colab_link": true
    },
    "kernelspec": {
      "name": "python3",
      "display_name": "Python 3"
    },
    "language_info": {
      "name": "python"
    },
    "widgets": {
      "application/vnd.jupyter.widget-state+json": {
        "0b7ec46f12834e56a407ce3b79007007": {
          "model_module": "jupyter-leaflet",
          "model_name": "LeafletMapModel",
          "model_module_version": "^0.17",
          "state": {
            "_dom_classes": [],
            "_model_module": "jupyter-leaflet",
            "_model_module_version": "^0.17",
            "_model_name": "LeafletMapModel",
            "_view_count": null,
            "_view_module": "jupyter-leaflet",
            "_view_module_version": "^0.17",
            "_view_name": "LeafletMapView",
            "bottom": 1888,
            "bounce_at_zoom_limits": true,
            "box_zoom": true,
            "center": [
              37.419329056383624,
              -103.878181389352
            ],
            "close_popup_on_click": true,
            "controls": [
              "IPY_MODEL_07558f31f0224324947a7b2a0f753232",
              "IPY_MODEL_fdcb03ada90d4d4c9e2dd1d9e5a7cabd",
              "IPY_MODEL_30d5af896fd14c19a8ac9b5cac131dcb",
              "IPY_MODEL_7da172213b564d6fb2d5f65c0f4a8197",
              "IPY_MODEL_3d8452815c414f388d49d7e5f1f116e4",
              "IPY_MODEL_8832b8309cb34b58b951ad875362b462",
              "IPY_MODEL_f20d6896f30c4d698d064e52297725fd",
              "IPY_MODEL_578ec5971eb943ed86d1de3eebd04f0e"
            ],
            "crs": {
              "name": "EPSG3857",
              "custom": false
            },
            "default_style": "IPY_MODEL_b686efc1f24a4840b0461ecee4c9c5c6",
            "double_click_zoom": true,
            "dragging": true,
            "dragging_style": "IPY_MODEL_8a2176323ba9413ca73d1dfbf1048c74",
            "east": 0.26367187500000006,
            "fullscreen": false,
            "inertia": true,
            "inertia_deceleration": 3000,
            "inertia_max_speed": 1500,
            "interpolation": "bilinear",
            "keyboard": true,
            "keyboard_pan_offset": 80,
            "keyboard_zoom_offset": 1,
            "layers": [
              "IPY_MODEL_bce733e1a1864e6086c767531b15d131",
              "IPY_MODEL_918fe304261a40f4bc0642457083d4e5"
            ],
            "layout": "IPY_MODEL_619a3bee452b40ae8f4e4fd978cbfb56",
            "left": -319,
            "max_zoom": 24,
            "min_zoom": null,
            "modisdate": "2023-09-25",
            "north": 55.3791104480105,
            "options": [
              "bounce_at_zoom_limits",
              "box_zoom",
              "center",
              "close_popup_on_click",
              "double_click_zoom",
              "dragging",
              "fullscreen",
              "inertia",
              "inertia_deceleration",
              "inertia_max_speed",
              "interpolation",
              "keyboard",
              "keyboard_pan_offset",
              "keyboard_zoom_offset",
              "max_zoom",
              "min_zoom",
              "prefer_canvas",
              "scroll_wheel_zoom",
              "tap",
              "tap_tolerance",
              "touch_zoom",
              "world_copy_jump",
              "zoom",
              "zoom_animation_threshold",
              "zoom_delta",
              "zoom_snap"
            ],
            "panes": {},
            "prefer_canvas": false,
            "right": 2051,
            "scroll_wheel_zoom": true,
            "south": 13.923403897723347,
            "style": "IPY_MODEL_8a2176323ba9413ca73d1dfbf1048c74",
            "tap": true,
            "tap_tolerance": 15,
            "top": 1288,
            "touch_zoom": true,
            "west": -208.03710937500003,
            "window_url": "https://hp3thyus85j-496ff2e9c6d22116-0-colab.googleusercontent.com/outputframe.html?vrz=colab_20230920-060121_RC00_566908972",
            "world_copy_jump": false,
            "zoom": 4,
            "zoom_animation_threshold": 4,
            "zoom_delta": 1,
            "zoom_snap": 1
          }
        },
        "07558f31f0224324947a7b2a0f753232": {
          "model_module": "jupyter-leaflet",
          "model_name": "LeafletWidgetControlModel",
          "model_module_version": "^0.17",
          "state": {
            "_model_module": "jupyter-leaflet",
            "_model_module_version": "^0.17",
            "_model_name": "LeafletWidgetControlModel",
            "_view_count": null,
            "_view_module": "jupyter-leaflet",
            "_view_module_version": "^0.17",
            "_view_name": "LeafletWidgetControlView",
            "max_height": null,
            "max_width": null,
            "min_height": null,
            "min_width": null,
            "options": [
              "position",
              "transparent_bg"
            ],
            "position": "topleft",
            "transparent_bg": false,
            "widget": "IPY_MODEL_c9a18c875c4d4157a1a6c567f0d68e83"
          }
        },
        "fdcb03ada90d4d4c9e2dd1d9e5a7cabd": {
          "model_module": "jupyter-leaflet",
          "model_name": "LeafletZoomControlModel",
          "model_module_version": "^0.17",
          "state": {
            "_model_module": "jupyter-leaflet",
            "_model_module_version": "^0.17",
            "_model_name": "LeafletZoomControlModel",
            "_view_count": null,
            "_view_module": "jupyter-leaflet",
            "_view_module_version": "^0.17",
            "_view_name": "LeafletZoomControlView",
            "options": [
              "position",
              "zoom_in_text",
              "zoom_in_title",
              "zoom_out_text",
              "zoom_out_title"
            ],
            "position": "topleft",
            "zoom_in_text": "+",
            "zoom_in_title": "Zoom in",
            "zoom_out_text": "-",
            "zoom_out_title": "Zoom out"
          }
        },
        "30d5af896fd14c19a8ac9b5cac131dcb": {
          "model_module": "jupyter-leaflet",
          "model_name": "LeafletFullScreenControlModel",
          "model_module_version": "^0.17",
          "state": {
            "_model_module": "jupyter-leaflet",
            "_model_module_version": "^0.17",
            "_model_name": "LeafletFullScreenControlModel",
            "_view_count": null,
            "_view_module": "jupyter-leaflet",
            "_view_module_version": "^0.17",
            "_view_name": "LeafletFullScreenControlView",
            "options": [
              "position"
            ],
            "position": "topleft"
          }
        },
        "7da172213b564d6fb2d5f65c0f4a8197": {
          "model_module": "jupyter-leaflet",
          "model_name": "LeafletDrawControlModel",
          "model_module_version": "^0.17",
          "state": {
            "_model_module": "jupyter-leaflet",
            "_model_module_version": "^0.17",
            "_model_name": "LeafletDrawControlModel",
            "_view_count": null,
            "_view_module": "jupyter-leaflet",
            "_view_module_version": "^0.17",
            "_view_name": "LeafletDrawControlView",
            "circle": {},
            "circlemarker": {},
            "data": [],
            "edit": true,
            "marker": {
              "shapeOptions": {
                "color": "#3388ff"
              }
            },
            "options": [
              "position"
            ],
            "polygon": {
              "shapeOptions": {}
            },
            "polyline": {
              "shapeOptions": {}
            },
            "position": "topleft",
            "rectangle": {
              "shapeOptions": {
                "color": "#3388ff"
              }
            },
            "remove": true
          }
        },
        "3d8452815c414f388d49d7e5f1f116e4": {
          "model_module": "jupyter-leaflet",
          "model_name": "LeafletScaleControlModel",
          "model_module_version": "^0.17",
          "state": {
            "_model_module": "jupyter-leaflet",
            "_model_module_version": "^0.17",
            "_model_name": "LeafletScaleControlModel",
            "_view_count": null,
            "_view_module": "jupyter-leaflet",
            "_view_module_version": "^0.17",
            "_view_name": "LeafletScaleControlView",
            "imperial": true,
            "max_width": 100,
            "metric": true,
            "options": [
              "imperial",
              "max_width",
              "metric",
              "position",
              "update_when_idle"
            ],
            "position": "bottomleft",
            "update_when_idle": false
          }
        },
        "8832b8309cb34b58b951ad875362b462": {
          "model_module": "jupyter-leaflet",
          "model_name": "LeafletMeasureControlModel",
          "model_module_version": "^0.17",
          "state": {
            "_custom_units": {},
            "_model_module": "jupyter-leaflet",
            "_model_module_version": "^0.17",
            "_model_name": "LeafletMeasureControlModel",
            "_view_count": null,
            "_view_module": "jupyter-leaflet",
            "_view_module_version": "^0.17",
            "_view_name": "LeafletMeasureControlView",
            "active_color": "orange",
            "capture_z_index": 10000,
            "completed_color": "#C8F2BE",
            "options": [
              "active_color",
              "capture_z_index",
              "completed_color",
              "popup_options",
              "position",
              "primary_area_unit",
              "primary_length_unit",
              "secondary_area_unit",
              "secondary_length_unit"
            ],
            "popup_options": {
              "className": "leaflet-measure-resultpopup",
              "autoPanPadding": [
                10,
                10
              ]
            },
            "position": "bottomleft",
            "primary_area_unit": "acres",
            "primary_length_unit": "kilometers",
            "secondary_area_unit": null,
            "secondary_length_unit": null
          }
        },
        "f20d6896f30c4d698d064e52297725fd": {
          "model_module": "jupyter-leaflet",
          "model_name": "LeafletWidgetControlModel",
          "model_module_version": "^0.17",
          "state": {
            "_model_module": "jupyter-leaflet",
            "_model_module_version": "^0.17",
            "_model_name": "LeafletWidgetControlModel",
            "_view_count": null,
            "_view_module": "jupyter-leaflet",
            "_view_module_version": "^0.17",
            "_view_name": "LeafletWidgetControlView",
            "max_height": null,
            "max_width": null,
            "min_height": null,
            "min_width": null,
            "options": [
              "position",
              "transparent_bg"
            ],
            "position": "topright",
            "transparent_bg": false,
            "widget": "IPY_MODEL_96eb32e9a85d44bc9ba0c562b8080e32"
          }
        },
        "578ec5971eb943ed86d1de3eebd04f0e": {
          "model_module": "jupyter-leaflet",
          "model_name": "LeafletAttributionControlModel",
          "model_module_version": "^0.17",
          "state": {
            "_model_module": "jupyter-leaflet",
            "_model_module_version": "^0.17",
            "_model_name": "LeafletAttributionControlModel",
            "_view_count": null,
            "_view_module": "jupyter-leaflet",
            "_view_module_version": "^0.17",
            "_view_name": "LeafletAttributionControlView",
            "options": [
              "position",
              "prefix"
            ],
            "position": "bottomright",
            "prefix": "ipyleaflet"
          }
        },
        "b686efc1f24a4840b0461ecee4c9c5c6": {
          "model_module": "jupyter-leaflet",
          "model_name": "LeafletMapStyleModel",
          "model_module_version": "^0.17",
          "state": {
            "_model_module": "jupyter-leaflet",
            "_model_module_version": "^0.17",
            "_model_name": "LeafletMapStyleModel",
            "_view_count": null,
            "_view_module": "@jupyter-widgets/base",
            "_view_module_version": "1.2.0",
            "_view_name": "StyleView",
            "cursor": "grab"
          }
        },
        "8a2176323ba9413ca73d1dfbf1048c74": {
          "model_module": "jupyter-leaflet",
          "model_name": "LeafletMapStyleModel",
          "model_module_version": "^0.17",
          "state": {
            "_model_module": "jupyter-leaflet",
            "_model_module_version": "^0.17",
            "_model_name": "LeafletMapStyleModel",
            "_view_count": null,
            "_view_module": "@jupyter-widgets/base",
            "_view_module_version": "1.2.0",
            "_view_name": "StyleView",
            "cursor": "move"
          }
        },
        "bce733e1a1864e6086c767531b15d131": {
          "model_module": "jupyter-leaflet",
          "model_name": "LeafletTileLayerModel",
          "model_module_version": "^0.17",
          "state": {
            "_model_module": "jupyter-leaflet",
            "_model_module_version": "^0.17",
            "_model_name": "LeafletTileLayerModel",
            "_view_count": null,
            "_view_module": "jupyter-leaflet",
            "_view_module_version": "^0.17",
            "_view_name": "LeafletTileLayerView",
            "attribution": "&copy; <a href=\"https://www.openstreetmap.org/copyright\">OpenStreetMap</a> contributors",
            "base": true,
            "bottom": true,
            "bounds": null,
            "detect_retina": false,
            "loading": false,
            "max_native_zoom": null,
            "max_zoom": 19,
            "min_native_zoom": null,
            "min_zoom": 1,
            "name": "OpenStreetMap.Mapnik",
            "no_wrap": false,
            "opacity": 1,
            "options": [
              "attribution",
              "bounds",
              "detect_retina",
              "max_native_zoom",
              "max_zoom",
              "min_native_zoom",
              "min_zoom",
              "no_wrap",
              "tile_size",
              "tms",
              "zoom_offset"
            ],
            "pane": "",
            "popup": null,
            "popup_max_height": null,
            "popup_max_width": 300,
            "popup_min_width": 50,
            "show_loading": false,
            "subitems": [],
            "tile_size": 256,
            "tms": false,
            "url": "https://tile.openstreetmap.org/{z}/{x}/{y}.png",
            "visible": true,
            "zoom_offset": 0
          }
        },
        "918fe304261a40f4bc0642457083d4e5": {
          "model_module": "jupyter-leaflet",
          "model_name": "LeafletTileLayerModel",
          "model_module_version": "^0.17",
          "state": {
            "_model_module": "jupyter-leaflet",
            "_model_module_version": "^0.17",
            "_model_name": "LeafletTileLayerModel",
            "_view_count": null,
            "_view_module": "jupyter-leaflet",
            "_view_module_version": "^0.17",
            "_view_name": "LeafletTileLayerView",
            "attribution": "Google Earth Engine",
            "base": false,
            "bottom": true,
            "bounds": null,
            "detect_retina": false,
            "loading": false,
            "max_native_zoom": null,
            "max_zoom": 24,
            "min_native_zoom": null,
            "min_zoom": 0,
            "name": "Layer 2",
            "no_wrap": false,
            "opacity": 1,
            "options": [
              "attribution",
              "bounds",
              "detect_retina",
              "max_native_zoom",
              "max_zoom",
              "min_native_zoom",
              "min_zoom",
              "no_wrap",
              "tile_size",
              "tms",
              "zoom_offset"
            ],
            "pane": "",
            "popup": null,
            "popup_max_height": null,
            "popup_max_width": 300,
            "popup_min_width": 50,
            "show_loading": false,
            "subitems": [],
            "tile_size": 256,
            "tms": false,
            "url": "https://earthengine.googleapis.com/v1/projects/earthengine-legacy/maps/1ed7ddd5ae6dede33c18f63325aca66a-fd1f6c68b850559d68cd7349f1944dc7/tiles/{z}/{x}/{y}",
            "visible": true,
            "zoom_offset": 0
          }
        },
        "619a3bee452b40ae8f4e4fd978cbfb56": {
          "model_module": "@jupyter-widgets/base",
          "model_name": "LayoutModel",
          "model_module_version": "1.2.0",
          "state": {
            "_model_module": "@jupyter-widgets/base",
            "_model_module_version": "1.2.0",
            "_model_name": "LayoutModel",
            "_view_count": null,
            "_view_module": "@jupyter-widgets/base",
            "_view_module_version": "1.2.0",
            "_view_name": "LayoutView",
            "align_content": null,
            "align_items": null,
            "align_self": null,
            "border": null,
            "bottom": null,
            "display": null,
            "flex": null,
            "flex_flow": null,
            "grid_area": null,
            "grid_auto_columns": null,
            "grid_auto_flow": null,
            "grid_auto_rows": null,
            "grid_column": null,
            "grid_gap": null,
            "grid_row": null,
            "grid_template_areas": null,
            "grid_template_columns": null,
            "grid_template_rows": null,
            "height": "600px",
            "justify_content": null,
            "justify_items": null,
            "left": null,
            "margin": null,
            "max_height": null,
            "max_width": null,
            "min_height": null,
            "min_width": null,
            "object_fit": null,
            "object_position": null,
            "order": null,
            "overflow": null,
            "overflow_x": null,
            "overflow_y": null,
            "padding": null,
            "right": null,
            "top": null,
            "visibility": null,
            "width": null
          }
        },
        "289d815546d44b4bb1f058475be85f8f": {
          "model_module": "jupyter-leaflet",
          "model_name": "LeafletMapStyleModel",
          "model_module_version": "^0.17",
          "state": {
            "_model_module": "jupyter-leaflet",
            "_model_module_version": "^0.17",
            "_model_name": "LeafletMapStyleModel",
            "_view_count": null,
            "_view_module": "@jupyter-widgets/base",
            "_view_module_version": "1.2.0",
            "_view_name": "StyleView",
            "cursor": "grab"
          }
        },
        "c9a18c875c4d4157a1a6c567f0d68e83": {
          "model_module": "@jupyter-widgets/controls",
          "model_name": "HBoxModel",
          "model_module_version": "1.5.0",
          "state": {
            "_dom_classes": [],
            "_model_module": "@jupyter-widgets/controls",
            "_model_module_version": "1.5.0",
            "_model_name": "HBoxModel",
            "_view_count": null,
            "_view_module": "@jupyter-widgets/controls",
            "_view_module_version": "1.5.0",
            "_view_name": "HBoxView",
            "box_style": "",
            "children": [
              "IPY_MODEL_f27b8514117643ac8490d22a65c3bc4a"
            ],
            "layout": "IPY_MODEL_0bfda516936f4274bc6329397b07db3e"
          }
        },
        "96eb32e9a85d44bc9ba0c562b8080e32": {
          "model_module": "@jupyter-widgets/controls",
          "model_name": "VBoxModel",
          "model_module_version": "1.5.0",
          "state": {
            "_dom_classes": [],
            "_model_module": "@jupyter-widgets/controls",
            "_model_module_version": "1.5.0",
            "_model_name": "VBoxModel",
            "_view_count": null,
            "_view_module": "@jupyter-widgets/controls",
            "_view_module_version": "1.5.0",
            "_view_name": "VBoxView",
            "box_style": "",
            "children": [
              "IPY_MODEL_fbe2b62e9fbd445b933ceede35052a8b"
            ],
            "layout": "IPY_MODEL_e7ca7c68d929486fa23cbaa1ad88ba6d"
          }
        },
        "f27b8514117643ac8490d22a65c3bc4a": {
          "model_module": "@jupyter-widgets/controls",
          "model_name": "ToggleButtonModel",
          "model_module_version": "1.5.0",
          "state": {
            "_dom_classes": [],
            "_model_module": "@jupyter-widgets/controls",
            "_model_module_version": "1.5.0",
            "_model_name": "ToggleButtonModel",
            "_view_count": null,
            "_view_module": "@jupyter-widgets/controls",
            "_view_module_version": "1.5.0",
            "_view_name": "ToggleButtonView",
            "button_style": "",
            "description": "",
            "description_tooltip": null,
            "disabled": false,
            "icon": "globe",
            "layout": "IPY_MODEL_9387142037544d8fab1ca468458c168e",
            "style": "IPY_MODEL_919292c56e3e4f1b9f8edb60f79f8f1e",
            "tooltip": "Search location/data",
            "value": false
          }
        },
        "0bfda516936f4274bc6329397b07db3e": {
          "model_module": "@jupyter-widgets/base",
          "model_name": "LayoutModel",
          "model_module_version": "1.2.0",
          "state": {
            "_model_module": "@jupyter-widgets/base",
            "_model_module_version": "1.2.0",
            "_model_name": "LayoutModel",
            "_view_count": null,
            "_view_module": "@jupyter-widgets/base",
            "_view_module_version": "1.2.0",
            "_view_name": "LayoutView",
            "align_content": null,
            "align_items": null,
            "align_self": null,
            "border": null,
            "bottom": null,
            "display": null,
            "flex": null,
            "flex_flow": null,
            "grid_area": null,
            "grid_auto_columns": null,
            "grid_auto_flow": null,
            "grid_auto_rows": null,
            "grid_column": null,
            "grid_gap": null,
            "grid_row": null,
            "grid_template_areas": null,
            "grid_template_columns": null,
            "grid_template_rows": null,
            "height": null,
            "justify_content": null,
            "justify_items": null,
            "left": null,
            "margin": null,
            "max_height": null,
            "max_width": null,
            "min_height": null,
            "min_width": null,
            "object_fit": null,
            "object_position": null,
            "order": null,
            "overflow": null,
            "overflow_x": null,
            "overflow_y": null,
            "padding": null,
            "right": null,
            "top": null,
            "visibility": null,
            "width": null
          }
        },
        "fbe2b62e9fbd445b933ceede35052a8b": {
          "model_module": "@jupyter-widgets/controls",
          "model_name": "ToggleButtonModel",
          "model_module_version": "1.5.0",
          "state": {
            "_dom_classes": [],
            "_model_module": "@jupyter-widgets/controls",
            "_model_module_version": "1.5.0",
            "_model_name": "ToggleButtonModel",
            "_view_count": null,
            "_view_module": "@jupyter-widgets/controls",
            "_view_module_version": "1.5.0",
            "_view_name": "ToggleButtonView",
            "button_style": "",
            "description": "",
            "description_tooltip": null,
            "disabled": false,
            "icon": "wrench",
            "layout": "IPY_MODEL_b21d06003d7142de8e7b53cbc0fccf50",
            "style": "IPY_MODEL_ad109472dff14bd38d8faf393281d8aa",
            "tooltip": "Toolbar",
            "value": false
          }
        },
        "e7ca7c68d929486fa23cbaa1ad88ba6d": {
          "model_module": "@jupyter-widgets/base",
          "model_name": "LayoutModel",
          "model_module_version": "1.2.0",
          "state": {
            "_model_module": "@jupyter-widgets/base",
            "_model_module_version": "1.2.0",
            "_model_name": "LayoutModel",
            "_view_count": null,
            "_view_module": "@jupyter-widgets/base",
            "_view_module_version": "1.2.0",
            "_view_name": "LayoutView",
            "align_content": null,
            "align_items": null,
            "align_self": null,
            "border": null,
            "bottom": null,
            "display": null,
            "flex": null,
            "flex_flow": null,
            "grid_area": null,
            "grid_auto_columns": null,
            "grid_auto_flow": null,
            "grid_auto_rows": null,
            "grid_column": null,
            "grid_gap": null,
            "grid_row": null,
            "grid_template_areas": null,
            "grid_template_columns": null,
            "grid_template_rows": null,
            "height": null,
            "justify_content": null,
            "justify_items": null,
            "left": null,
            "margin": null,
            "max_height": null,
            "max_width": null,
            "min_height": null,
            "min_width": null,
            "object_fit": null,
            "object_position": null,
            "order": null,
            "overflow": null,
            "overflow_x": null,
            "overflow_y": null,
            "padding": null,
            "right": null,
            "top": null,
            "visibility": null,
            "width": null
          }
        },
        "9387142037544d8fab1ca468458c168e": {
          "model_module": "@jupyter-widgets/base",
          "model_name": "LayoutModel",
          "model_module_version": "1.2.0",
          "state": {
            "_model_module": "@jupyter-widgets/base",
            "_model_module_version": "1.2.0",
            "_model_name": "LayoutModel",
            "_view_count": null,
            "_view_module": "@jupyter-widgets/base",
            "_view_module_version": "1.2.0",
            "_view_name": "LayoutView",
            "align_content": null,
            "align_items": null,
            "align_self": null,
            "border": null,
            "bottom": null,
            "display": null,
            "flex": null,
            "flex_flow": null,
            "grid_area": null,
            "grid_auto_columns": null,
            "grid_auto_flow": null,
            "grid_auto_rows": null,
            "grid_column": null,
            "grid_gap": null,
            "grid_row": null,
            "grid_template_areas": null,
            "grid_template_columns": null,
            "grid_template_rows": null,
            "height": "28px",
            "justify_content": null,
            "justify_items": null,
            "left": null,
            "margin": null,
            "max_height": null,
            "max_width": null,
            "min_height": null,
            "min_width": null,
            "object_fit": null,
            "object_position": null,
            "order": null,
            "overflow": null,
            "overflow_x": null,
            "overflow_y": null,
            "padding": "0px 0px 0px 4px",
            "right": null,
            "top": null,
            "visibility": null,
            "width": "28px"
          }
        },
        "919292c56e3e4f1b9f8edb60f79f8f1e": {
          "model_module": "@jupyter-widgets/controls",
          "model_name": "DescriptionStyleModel",
          "model_module_version": "1.5.0",
          "state": {
            "_model_module": "@jupyter-widgets/controls",
            "_model_module_version": "1.5.0",
            "_model_name": "DescriptionStyleModel",
            "_view_count": null,
            "_view_module": "@jupyter-widgets/base",
            "_view_module_version": "1.2.0",
            "_view_name": "StyleView",
            "description_width": ""
          }
        },
        "b21d06003d7142de8e7b53cbc0fccf50": {
          "model_module": "@jupyter-widgets/base",
          "model_name": "LayoutModel",
          "model_module_version": "1.2.0",
          "state": {
            "_model_module": "@jupyter-widgets/base",
            "_model_module_version": "1.2.0",
            "_model_name": "LayoutModel",
            "_view_count": null,
            "_view_module": "@jupyter-widgets/base",
            "_view_module_version": "1.2.0",
            "_view_name": "LayoutView",
            "align_content": null,
            "align_items": null,
            "align_self": null,
            "border": null,
            "bottom": null,
            "display": null,
            "flex": null,
            "flex_flow": null,
            "grid_area": null,
            "grid_auto_columns": null,
            "grid_auto_flow": null,
            "grid_auto_rows": null,
            "grid_column": null,
            "grid_gap": null,
            "grid_row": null,
            "grid_template_areas": null,
            "grid_template_columns": null,
            "grid_template_rows": null,
            "height": "28px",
            "justify_content": null,
            "justify_items": null,
            "left": null,
            "margin": null,
            "max_height": null,
            "max_width": null,
            "min_height": null,
            "min_width": null,
            "object_fit": null,
            "object_position": null,
            "order": null,
            "overflow": null,
            "overflow_x": null,
            "overflow_y": null,
            "padding": "0px 0px 0px 4px",
            "right": null,
            "top": null,
            "visibility": null,
            "width": "28px"
          }
        },
        "ad109472dff14bd38d8faf393281d8aa": {
          "model_module": "@jupyter-widgets/controls",
          "model_name": "DescriptionStyleModel",
          "model_module_version": "1.5.0",
          "state": {
            "_model_module": "@jupyter-widgets/controls",
            "_model_module_version": "1.5.0",
            "_model_name": "DescriptionStyleModel",
            "_view_count": null,
            "_view_module": "@jupyter-widgets/base",
            "_view_module_version": "1.2.0",
            "_view_name": "StyleView",
            "description_width": ""
          }
        }
      }
    }
  },
  "cells": [
    {
      "cell_type": "markdown",
      "metadata": {
        "id": "view-in-github",
        "colab_type": "text"
      },
      "source": [
        "<a href=\"https://colab.research.google.com/github/rmccormick314/GFSAD_Crop_Type_Mapping/blob/main/AppEARS_Data_Selector.ipynb\" target=\"_parent\"><img src=\"https://colab.research.google.com/assets/colab-badge.svg\" alt=\"Open In Colab\"/></a>"
      ]
    },
    {
      "cell_type": "code",
      "execution_count": 1,
      "metadata": {
        "colab": {
          "base_uri": "https://localhost:8080/"
        },
        "id": "RB6geqNOdf49",
        "outputId": "ea04a24f-c7df-40c6-ed66-223d01541c8a"
      },
      "outputs": [
        {
          "output_type": "stream",
          "name": "stdout",
          "text": [
            "To authorize access needed by Earth Engine, open the following URL in a web browser and follow the instructions. If the web browser does not start automatically, please manually browse the URL below.\n",
            "\n",
            "    https://code.earthengine.google.com/client-auth?scopes=https%3A//www.googleapis.com/auth/earthengine%20https%3A//www.googleapis.com/auth/devstorage.full_control&request_id=WKHsG8ZhupYVPULIMi8vfK6eOLoYJUzv_JL1-ypXSdo&tc=CVvFQgl0gOBq85Ra2DlQfIj2OC3cOEyVWp7keRHtq0g&cc=PYydJlZVEgMP0g1Bd52keThsR3Hqudtg0cA0QIodFuw\n",
            "\n",
            "The authorization workflow will generate a code, which you should paste in the box below.\n",
            "Enter verification code: 4/1AfJohXnlsBbxTOTmKx8Q3WTswyZ-WepliNgKnaAVmYqtY63KgOyE-csiowg\n",
            "\n",
            "Successfully saved authorization token.\n"
          ]
        }
      ],
      "source": [
        "### 0. Initialize Google Earth Engine API\n",
        "\n",
        "# Import the Earth Engine package.\n",
        "import ee\n",
        "import geemap\n",
        "\n",
        "# Trigger the authentication flow.\n",
        "ee.Authenticate()\n",
        "\n",
        "# Initialize the library.\n",
        "ee.Initialize()"
      ]
    },
    {
      "cell_type": "code",
      "source": [
        "# 1a. Set Up the Working Environment\n",
        "\n",
        "#### Import the required packages and set the input/working directory.\n",
        "import requests as r\n",
        "import getpass, pprint, time, os, cgi\n",
        "\n",
        "#### Set input directory, change working directory\n",
        "inDir = \"./\" # Input directory needs to be set proper if running this in a real environment.\n",
        "os.chdir(inDir)\n",
        "api = 'https://appeears.earthdatacloud.nasa.gov/api/'\n",
        "\n",
        "#### Request username and password from user.\n",
        "user = getpass.getpass(prompt = 'Enter NASA Earthdata Login Username: ')\n",
        "password = getpass.getpass(prompt = 'Enter NASA Earthdata Login Password: ')\n",
        "\n",
        "#### Call the log-in service with credentials, acquire bearer token,\n",
        "#### and delete the user information once request is complete.\n",
        "token_response = r.post('{}login'.format(api), auth=(user, password)).json()\n",
        "del user, password\n",
        "\n",
        "token_response # Token is good for 48 hours"
      ],
      "metadata": {
        "colab": {
          "base_uri": "https://localhost:8080/"
        },
        "id": "mK9gil7xly9u",
        "outputId": "7515d54b-ca9f-41a2-bf25-47c7feeae8b7"
      },
      "execution_count": 2,
      "outputs": [
        {
          "name": "stdout",
          "output_type": "stream",
          "text": [
            "Enter NASA Earthdata Login Username: ··········\n",
            "Enter NASA Earthdata Login Password: ··········\n"
          ]
        },
        {
          "output_type": "execute_result",
          "data": {
            "text/plain": [
              "{'token_type': 'Bearer',\n",
              " 'token': 'UPLY0wFANsbWs6eqoD1lJQCpsK6Wb476g1UARdLSXGoM8aPmZMU9RLUg89eYxptE1TfkRUPH37YN3dPJYkTP-A',\n",
              " 'expiration': '2023-09-27T22:56:13Z'}"
            ]
          },
          "metadata": {},
          "execution_count": 2
        }
      ]
    },
    {
      "cell_type": "code",
      "source": [
        "# 2. Query Available Products\n",
        "# 2a. Search and Explore Available Products\n",
        "\n",
        "product_response = r.get('{}product'.format(api)).json()                         # request all products in the product service\n",
        "print('AρρEEARS currently supports {} products.'.format(len(product_response)))\n",
        "\n",
        "#### Next, create a dictionary indexed by product name, making it easier to query a specific product.\n",
        "products = {p['ProductAndVersion']: p for p in product_response} # Create a dictionary indexed by product name & version\n",
        "prods = ['HLSS30.020']\n",
        "\n",
        "lst_response = r.get('{}product/{}'.format(api, prods[0])).json()  # Request layers for the 1st product (index 0) in the list\n",
        "pprint.pprint(products['HLSS30.020'])"
      ],
      "metadata": {
        "colab": {
          "base_uri": "https://localhost:8080/"
        },
        "id": "BAajxHzf4wLd",
        "outputId": "9f6857f1-63a8-44a7-a852-09876416d772"
      },
      "execution_count": 5,
      "outputs": [
        {
          "output_type": "stream",
          "name": "stdout",
          "text": [
            "AρρEEARS currently supports 120 products.\n",
            "{'Available': True,\n",
            " 'DOI': '10.5067/HLS/HLSS30.002',\n",
            " 'Deleted': False,\n",
            " 'Description': 'Land Surface Reflectance',\n",
            " 'DocLink': 'https://doi.org/10.5067/HLS/HLSS30.002',\n",
            " 'Info': {'cmr_date_parse': 'date',\n",
            "          'extension': 'tif',\n",
            "          'is_utm_zonal': True,\n",
            "          'provider_id': 'lp_prod'},\n",
            " 'Platform': 'Harmonized Landsat and Sentinel-2',\n",
            " 'Product': 'HLSS30',\n",
            " 'ProductAndVersion': 'HLSS30.020',\n",
            " 'RasterType': 'Tile',\n",
            " 'Resolution': '30m',\n",
            " 'Source': 'LP DAAC',\n",
            " 'TemporalExtentEnd': 'Present',\n",
            " 'TemporalExtentStart': '2015-12-01',\n",
            " 'TemporalGranularity': 'Daily',\n",
            " 'Version': '020'}\n"
          ]
        }
      ]
    },
    {
      "cell_type": "code",
      "source": [
        "lai_response = r.get('{}product/{}'.format(api, prods[0])).json()  # Request layers for the 1st product (index 0) in the list: MCD15A3H.006\n",
        "#list(lai_response.keys())                                          # Print the LAI layer names\n",
        "\n",
        "layers = []\n",
        "\n",
        "for key in (list(lai_response.keys())):\n",
        "  layers.append((prods[0],key)) # Append to tupled list linking desired product with desired layers\n",
        "\n",
        "prodLayer = []\n",
        "for l in layers:\n",
        "    prodLayer.append({\n",
        "            \"layer\": l[1],\n",
        "            \"product\": l[0]\n",
        "          })\n",
        "prodLayer"
      ],
      "metadata": {
        "colab": {
          "base_uri": "https://localhost:8080/"
        },
        "id": "H3rELq1N6_at",
        "outputId": "22189e7f-82ce-48c7-a056-d0bc59ca3765"
      },
      "execution_count": 9,
      "outputs": [
        {
          "output_type": "execute_result",
          "data": {
            "text/plain": [
              "[{'layer': 'B01', 'product': 'HLSS30.020'},\n",
              " {'layer': 'B02', 'product': 'HLSS30.020'},\n",
              " {'layer': 'B03', 'product': 'HLSS30.020'},\n",
              " {'layer': 'B04', 'product': 'HLSS30.020'},\n",
              " {'layer': 'B05', 'product': 'HLSS30.020'},\n",
              " {'layer': 'B06', 'product': 'HLSS30.020'},\n",
              " {'layer': 'B07', 'product': 'HLSS30.020'},\n",
              " {'layer': 'B08', 'product': 'HLSS30.020'},\n",
              " {'layer': 'B09', 'product': 'HLSS30.020'},\n",
              " {'layer': 'B10', 'product': 'HLSS30.020'},\n",
              " {'layer': 'B11', 'product': 'HLSS30.020'},\n",
              " {'layer': 'B12', 'product': 'HLSS30.020'},\n",
              " {'layer': 'B8A', 'product': 'HLSS30.020'},\n",
              " {'layer': 'Fmask', 'product': 'HLSS30.020'},\n",
              " {'layer': 'SAA', 'product': 'HLSS30.020'},\n",
              " {'layer': 'SZA', 'product': 'HLSS30.020'},\n",
              " {'layer': 'VAA', 'product': 'HLSS30.020'},\n",
              " {'layer': 'VZA', 'product': 'HLSS30.020'}]"
            ]
          },
          "metadata": {},
          "execution_count": 9
        }
      ]
    },
    {
      "cell_type": "code",
      "source": [
        "# 3. Submit an Area Request\n",
        "token = token_response['token']                      # Save login token to a variable\n",
        "head = {'Authorization': 'Bearer {}'.format(token)}  # Create a header to store token information, needed to submit a request\n",
        "\n",
        "# import shapefile\n",
        "gaez6 = ee.FeatureCollection(\"projects/usgs-gee-wgscflag/assets/GFSAD30-RAEZ-74-Zones\")\n",
        "gaez6 = gaez6.filter( ee.Filter.eq( 'Zone', '6' ) )\n",
        "\n",
        "states = ee.FeatureCollection(\"TIGER/2018/States\");\n",
        "south_dakota = states.filter(ee.Filter.eq('NAME', 'South Dakota')).first()\n",
        "new_geom = ee.FeatureCollection(gaez6.geometry().intersection(south_dakota.geometry()))\n",
        "\n",
        "# build map, add shapefile, center on shapefile\n",
        "Map = geemap.Map()\n",
        "Map.addLayer(gaez6)\n",
        "Map.centerObject(gaez6)\n",
        "\n",
        "import geopandas\n",
        "import json\n",
        "\n",
        "gdf = geemap.ee_to_geopandas( new_geom ).to_json()\n",
        "gdf = json.loads(gdf)\n",
        "# display map\n",
        "Map"
      ],
      "metadata": {
        "colab": {
          "base_uri": "https://localhost:8080/",
          "height": 621,
          "referenced_widgets": [
            "0b7ec46f12834e56a407ce3b79007007",
            "07558f31f0224324947a7b2a0f753232",
            "fdcb03ada90d4d4c9e2dd1d9e5a7cabd",
            "30d5af896fd14c19a8ac9b5cac131dcb",
            "7da172213b564d6fb2d5f65c0f4a8197",
            "3d8452815c414f388d49d7e5f1f116e4",
            "8832b8309cb34b58b951ad875362b462",
            "f20d6896f30c4d698d064e52297725fd",
            "578ec5971eb943ed86d1de3eebd04f0e",
            "b686efc1f24a4840b0461ecee4c9c5c6",
            "8a2176323ba9413ca73d1dfbf1048c74",
            "bce733e1a1864e6086c767531b15d131",
            "918fe304261a40f4bc0642457083d4e5",
            "619a3bee452b40ae8f4e4fd978cbfb56",
            "289d815546d44b4bb1f058475be85f8f",
            "c9a18c875c4d4157a1a6c567f0d68e83",
            "96eb32e9a85d44bc9ba0c562b8080e32",
            "f27b8514117643ac8490d22a65c3bc4a",
            "0bfda516936f4274bc6329397b07db3e",
            "fbe2b62e9fbd445b933ceede35052a8b",
            "e7ca7c68d929486fa23cbaa1ad88ba6d",
            "9387142037544d8fab1ca468458c168e",
            "919292c56e3e4f1b9f8edb60f79f8f1e",
            "b21d06003d7142de8e7b53cbc0fccf50",
            "ad109472dff14bd38d8faf393281d8aa"
          ]
        },
        "id": "chj4ZFjUrukY",
        "outputId": "3c696242-d721-40c3-f5de-ca28dd95a942"
      },
      "execution_count": 58,
      "outputs": [
        {
          "output_type": "display_data",
          "data": {
            "text/plain": [
              "Map(center=[20, 0], controls=(WidgetControl(options=['position', 'transparent_bg'], widget=HBox(children=(Togg…"
            ],
            "application/vnd.jupyter.widget-view+json": {
              "version_major": 2,
              "version_minor": 0,
              "model_id": "0b7ec46f12834e56a407ce3b79007007"
            }
          },
          "metadata": {
            "application/vnd.jupyter.widget-view+json": {
              "colab": {
                "custom_widget_manager": {
                  "url": "https://ssl.gstatic.com/colaboratory-static/widgets/colab-cdn-widget-manager/b3e629b1971e1542/manager.min.js"
                }
              }
            }
          }
        }
      ]
    },
    {
      "cell_type": "code",
      "source": [
        "projections = r.get('{}spatial/proj'.format(api)).json()  # Call to spatial API, return projs as json\n",
        "# projections                                               # Print projections and information\n",
        "\n",
        "projs = {}                                  # Create an empty dictionary\n",
        "for p in projections: projs[p['Name']] = p  # Fill dictionary with `Name` as keys\n",
        "#list(projs.keys())                          # Print dictionary keys\n",
        "\n",
        "print(projs['geographic']['Name'])\n",
        "\n",
        "# 3c. Compile a JSON [Task Object]\n",
        "task_name = input('Enter a Task Name: ') # User-defined name of the task: 'NPS Vegetation Area' used in example\n",
        "\n",
        "task_type = ['point','area']        # Type of task, area or point\n",
        "proj = projs['geographic']['Name']  # Set output projection\n",
        "outFormat = ['geotiff', 'netcdf4']  # Set output file format type\n",
        "startDate = '07-01-2020'            # Start of the date range for which to extract data: MM-DD-YYYY\n",
        "endDate = '07-31-2020'              # End of the date range for which to extract data: MM-DD-YYYY\n",
        "recurring = False                   # Specify True for a recurring date range\n",
        "#yearRange = [2000,2016]            # if recurring = True, set yearRange, change start/end date to MM-DD\n",
        "\n",
        "task = {\n",
        "    'task_type': task_type[1],\n",
        "    'task_name': task_name,\n",
        "    'params': {\n",
        "         'dates': [\n",
        "         {\n",
        "             'startDate': startDate,\n",
        "             'endDate': endDate\n",
        "         }],\n",
        "         'layers': prodLayer,\n",
        "         'output': {\n",
        "                 'format': {\n",
        "                         'type': outFormat[0]},\n",
        "                         'projection': proj},\n",
        "         'geo': gdf,\n",
        "    }\n",
        "}\n",
        "\n",
        "task_response = r.post('{}task'.format(api), json=task, headers=head).json()  # Post json to the API task service, return response as json\n",
        "task_response                                                                 # Print task response"
      ],
      "metadata": {
        "colab": {
          "base_uri": "https://localhost:8080/"
        },
        "id": "bqiHedQytEcY",
        "outputId": "b270567c-bd1e-4116-9945-e3be263f0800"
      },
      "execution_count": 59,
      "outputs": [
        {
          "name": "stdout",
          "output_type": "stream",
          "text": [
            "geographic\n",
            "Enter a Task Name: South Dakota TEST\n"
          ]
        },
        {
          "output_type": "execute_result",
          "data": {
            "text/plain": [
              "{'task_id': 'c7c49add-dc03-4b75-855e-977344f0d479', 'status': 'pending'}"
            ]
          },
          "metadata": {},
          "execution_count": 59
        }
      ]
    },
    {
      "cell_type": "code",
      "source": [
        "task_id = task_response['task_id']                                               # Set task id from request submission\n",
        "status_response = r.get('{}status/{}'.format(api, task_id), headers=head).json() # Call status service with specific task ID & user credentials\n",
        "#status_response                                                                                                                      # Print task response\n",
        "\n",
        "# Ping API until request is complete, then continue to Section 4\n",
        "starttime = time.time()\n",
        "while r.get('{}task/{}'.format(api, task_id), headers=head).json()['status'] != 'done':\n",
        "    print(r.get('{}task/{}'.format(api, task_id), headers=head).json()['status'])\n",
        "    time.sleep(20.0 - ((time.time() - starttime) % 20.0))\n",
        "print(r.get('{}task/{}'.format(api, task_id), headers=head).json()['status'])"
      ],
      "metadata": {
        "colab": {
          "base_uri": "https://localhost:8080/"
        },
        "id": "HN1IDiKHtVTz",
        "outputId": "d22fd506-da12-4114-cfe8-6da393a5bd02"
      },
      "execution_count": null,
      "outputs": [
        {
          "output_type": "stream",
          "name": "stdout",
          "text": [
            "processing\n",
            "processing\n",
            "processing\n",
            "processing\n",
            "processing\n",
            "processing\n",
            "processing\n",
            "processing\n",
            "processing\n",
            "processing\n",
            "processing\n",
            "processing\n",
            "processing\n",
            "processing\n",
            "processing\n",
            "processing\n",
            "processing\n",
            "processing\n",
            "processing\n",
            "processing\n",
            "processing\n",
            "processing\n",
            "processing\n",
            "processing\n",
            "processing\n",
            "processing\n",
            "processing\n",
            "processing\n",
            "processing\n",
            "processing\n",
            "processing\n",
            "processing\n",
            "processing\n",
            "processing\n",
            "processing\n",
            "processing\n",
            "processing\n",
            "processing\n",
            "processing\n",
            "processing\n",
            "processing\n",
            "processing\n",
            "processing\n",
            "processing\n",
            "processing\n",
            "processing\n",
            "processing\n",
            "processing\n",
            "processing\n",
            "processing\n",
            "processing\n",
            "processing\n",
            "processing\n",
            "processing\n",
            "processing\n",
            "processing\n",
            "processing\n",
            "processing\n",
            "processing\n",
            "processing\n",
            "processing\n",
            "processing\n",
            "processing\n",
            "processing\n",
            "processing\n",
            "processing\n",
            "processing\n",
            "processing\n",
            "processing\n",
            "processing\n",
            "processing\n",
            "processing\n",
            "processing\n",
            "processing\n",
            "processing\n",
            "processing\n",
            "processing\n",
            "processing\n",
            "processing\n",
            "processing\n",
            "processing\n",
            "processing\n",
            "processing\n",
            "processing\n",
            "processing\n",
            "processing\n",
            "processing\n",
            "processing\n",
            "processing\n",
            "processing\n",
            "processing\n",
            "processing\n",
            "processing\n",
            "processing\n",
            "processing\n",
            "processing\n",
            "processing\n",
            "processing\n",
            "processing\n",
            "processing\n",
            "processing\n",
            "processing\n",
            "processing\n",
            "processing\n",
            "processing\n",
            "processing\n",
            "processing\n",
            "processing\n",
            "processing\n",
            "processing\n",
            "processing\n",
            "processing\n",
            "processing\n",
            "processing\n",
            "processing\n",
            "processing\n",
            "processing\n",
            "processing\n",
            "processing\n",
            "processing\n",
            "processing\n",
            "processing\n",
            "processing\n",
            "processing\n",
            "processing\n",
            "processing\n",
            "processing\n",
            "processing\n",
            "processing\n",
            "processing\n",
            "processing\n",
            "processing\n"
          ]
        }
      ]
    },
    {
      "cell_type": "code",
      "source": [],
      "metadata": {
        "id": "7FKUJJHZ2FlY"
      },
      "execution_count": 62,
      "outputs": []
    }
  ]
}