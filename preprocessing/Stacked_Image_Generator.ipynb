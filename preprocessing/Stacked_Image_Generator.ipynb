{
  "cells": [
    {
      "cell_type": "markdown",
      "metadata": {
        "id": "view-in-github",
        "colab_type": "text"
      },
      "source": [
        "<a href=\"https://colab.research.google.com/github/rmccormick314/GFSAD/blob/main/preprocessing/Stacked_Image_Generator.ipynb\" target=\"_parent\"><img src=\"https://colab.research.google.com/assets/colab-badge.svg\" alt=\"Open In Colab\"/></a>"
      ]
    },
    {
      "cell_type": "markdown",
      "source": [
        "# I. Set Up"
      ],
      "metadata": {
        "id": "TKMBeKQJHgDq"
      }
    },
    {
      "cell_type": "markdown",
      "source": [
        "## a. Requirements"
      ],
      "metadata": {
        "id": "deBZBg-lHjj8"
      }
    },
    {
      "cell_type": "code",
      "source": [
        "repo_url = \"https://raw.githubusercontent.com/GoogleCloudPlatform/python-docs-samples/main/people-and-planet-ai/land-cover-classification\"\n",
        "\n",
        "!wget --quiet {repo_url}/requirements.txt\n",
        "\n",
        "!pip install --quiet --upgrade pip\n",
        "!pip install --quiet -r requirements.txt\n",
        "\n",
        "# Restart the runtime by ending the process.\n",
        "exit()"
      ],
      "metadata": {
        "id": "qbqH5kKXHovn"
      },
      "execution_count": 1,
      "outputs": []
    },
    {
      "cell_type": "markdown",
      "source": [
        "## b. Set Project Info\n",
        "Authenticates the user to Earth Engine and sets GCP variables."
      ],
      "metadata": {
        "id": "rN-cP0T8IMEH"
      }
    },
    {
      "cell_type": "code",
      "source": [
        "from __future__ import annotations\n",
        "\n",
        "import os\n",
        "from google.colab import auth\n",
        "\n",
        "auth.authenticate_user()\n",
        "\n",
        "# Please fill in these values.\n",
        "project = \"gfsad-446404\"  # @param {type:\"string\"}\n",
        "bucket = \"lgcip30\"  # @param {type:\"string\"}\n",
        "location = \"us-west1\"  # @param {type:\"string\"}\n",
        "\n",
        "# Quick input validations.\n",
        "assert project, \"⚠️ Please provide a Google Cloud project ID\"\n",
        "assert bucket, \"⚠️ Please provide a Cloud Storage bucket name\"\n",
        "assert not bucket.startswith(\n",
        "    \"gs://\"\n",
        "), f\"⚠️ Please remove the gs:// prefix from the bucket name: {bucket}\"\n",
        "assert location, \"⚠️ Please provide a Google Cloud location\"\n",
        "\n",
        "# Set GOOGLE_CLOUD_PROJECT for google.auth.default().\n",
        "os.environ[\"GOOGLE_CLOUD_PROJECT\"] = project\n",
        "\n",
        "# Set the gcloud project for other gcloud commands.\n",
        "!gcloud config set project {project}"
      ],
      "metadata": {
        "id": "jNsNFI07Hyji",
        "outputId": "a2896037-3cba-48d2-a52a-6066377170c8",
        "colab": {
          "base_uri": "https://localhost:8080/"
        }
      },
      "execution_count": 4,
      "outputs": [
        {
          "output_type": "stream",
          "name": "stdout",
          "text": [
            "Updated property [core/project].\n"
          ]
        }
      ]
    },
    {
      "cell_type": "markdown",
      "source": [
        "## c. Clone GitHub Code"
      ],
      "metadata": {
        "id": "07Vz--_9ISu_"
      }
    },
    {
      "cell_type": "code",
      "source": [
        "# Now let's get the code from GitHub and navigate to the sample.\n",
        "!git clone https://github.com/GoogleCloudPlatform/python-docs-samples.git\n",
        "%cd python-docs-samples/people-and-planet-ai/land-cover-classification"
      ],
      "metadata": {
        "id": "3BQzDGfcIYQW",
        "outputId": "c22dccb0-c946-47cd-f2cd-3d19b01a19c1",
        "colab": {
          "base_uri": "https://localhost:8080/"
        }
      },
      "execution_count": 2,
      "outputs": [
        {
          "output_type": "stream",
          "name": "stdout",
          "text": [
            "Cloning into 'python-docs-samples'...\n",
            "remote: Enumerating objects: 118950, done.\u001b[K\n",
            "remote: Counting objects: 100% (6982/6982), done.\u001b[K\n",
            "remote: Compressing objects: 100% (1263/1263), done.\u001b[K\n",
            "remote: Total 118950 (delta 6443), reused 5721 (delta 5719), pack-reused 111968 (from 3)\u001b[K\n",
            "Receiving objects: 100% (118950/118950), 242.97 MiB | 27.67 MiB/s, done.\n",
            "Resolving deltas: 100% (71875/71875), done.\n",
            "Updating files: 100% (5500/5500), done.\n",
            "/content/python-docs-samples/people-and-planet-ai/land-cover-classification\n"
          ]
        }
      ]
    },
    {
      "cell_type": "markdown",
      "source": [
        "## d. Initialize Earth Engine"
      ],
      "metadata": {
        "id": "xurmgjCBIcZc"
      }
    },
    {
      "cell_type": "code",
      "source": [
        "import ee\n",
        "import google.auth\n",
        "\n",
        "credentials, _ = google.auth.default()\n",
        "ee.Initialize(\n",
        "    credentials.with_quota_project(None),\n",
        "    project=project,\n",
        "    opt_url=\"https://earthengine-highvolume.googleapis.com\",\n",
        ")"
      ],
      "metadata": {
        "id": "1BV2fplPItDF"
      },
      "execution_count": 5,
      "outputs": []
    },
    {
      "cell_type": "markdown",
      "source": [
        "# II. Create Dataset"
      ],
      "metadata": {
        "id": "aB8ftwgUI4OD"
      }
    },
    {
      "cell_type": "markdown",
      "source": [
        "## a. Set Parameters"
      ],
      "metadata": {
        "id": "Cn4nsDlUJ7KE"
      }
    },
    {
      "cell_type": "code",
      "source": [
        "YEAR = \"2020\" # @param {\"type\":\"string\"}\n",
        "GAEZ = \"8\" # @param {\"type\":\"string\"}"
      ],
      "metadata": {
        "id": "muDgWgzwJ6wY"
      },
      "execution_count": null,
      "outputs": []
    },
    {
      "cell_type": "markdown",
      "source": [
        "## b. Visualize CDL"
      ],
      "metadata": {
        "id": "ERKQQ7qXJEC4"
      }
    },
    {
      "cell_type": "code",
      "source": [
        "import ee\n",
        "import folium\n",
        "\n",
        "CLASSIFICATIONS = {\n",
        "    \"Perennial\" : \"1E90FF\",\n",
        "    \"Fodder\"    : \"00FF00\",\n",
        "    \"Dbl. Crop\" : \"FFD700\",\n",
        "    \"Annual\"    : \"FF4500\",\n",
        "    \"Fallow\"    : \"bfbf77\"\n",
        "}\n",
        "\n",
        "image = (\n",
        "    ee.Image(\"USDA/NASS/CDL/\" + YEAR)\n",
        "    .select(\"cropland\")\n",
        "    .remap(\n",
        "        [1, 2, 3, 4, 5, 6, 10, 11, 12, 13, 14, 21, 22, 23, 24, 25, 26, 27, 28, 29, 30, 31, 32, 33, 34, 35, 36, 37, 38, 39, 41, 42, 43, 44, 45, 46, 47, 48, 49, 50, 51, 52, 53, 54, 55, 56, 57, 58, 59, 60, 61, 63, 64, 65, 66, 67, 68, 69, 70, 71, 72, 74, 75, 76, 77, 81, 82, 83, 87, 88, 92, 111, 112, 121, 122, 123, 124, 131, 141, 142, 143, 152, 176, 190, 195, 204, 205, 206, 207, 208, 209, 210, 211, 212, 213, 214, 215, 216, 217, 218, 219, 220, 221, 222, 223, 224, 225, 226, 227, 228, 229, 230, 231, 232, 233, 234, 235, 236, 237, 238, 239, 240, 241, 242, 243, 244, 245, 246, 247, 248, 249, 250, 254],\n",
        "        [4, 4, 4, 4, 4, 4, 4, 4, 4, 4, 1, 4, 4, 4, 4, 4, 3, 4, 4, 4, 4, 4, 4, 4, 4, 4, 2, 2, 4, 4, 4, 4, 4, 4, 1, 4, 4, 4, 4, 4, 4, 4, 4, 4, 1, 1, 1, 1, 2, 2, 5, 6, 6, 6, 1, 1, 1, 1, 1, 1, 1, 1, 1, 1, 1, 6, 6, 6, 6, 6, 6, 6, 6, 6, 6, 6, 6, 6, 6, 6, 6, 6, 6, 6, 6, 1, 4, 4, 1, 4, 4, 1, 1, 1, 4, 4, 1, 4, 1, 1, 4, 1, 1, 4, 1, 4, 3, 3, 4, 3, 4, 3, 3, 3, 3, 3, 3, 3, 3, 3, 3, 3, 3, 1, 4, 4, 4, 4, 4, 4, 4, 1, 3]\n",
        "    )\n",
        "    .rename(\"label\")\n",
        ")\n",
        "\n",
        "vis_params = {\n",
        "    \"max\": len(CLASSIFICATIONS),\n",
        "    \"palette\": list(CLASSIFICATIONS.values()),\n",
        "    \"bands\": [\"label\"],\n",
        "}\n",
        "folium.Map(\n",
        "    location=(38, -106),\n",
        "    zoom_start=5,\n",
        "    tiles=image.getMapId(vis_params)[\"tile_fetcher\"].url_format,\n",
        "    attr='Map Data &copy; <a href=\"https://earthengine.google.com/\">Google Earth Engine</a>',\n",
        ")"
      ],
      "metadata": {
        "id": "1eMlnAGfJE0L",
        "outputId": "055ab699-da2d-4eef-d1b7-395363d51062",
        "colab": {
          "base_uri": "https://localhost:8080/",
          "height": 547
        }
      },
      "execution_count": 9,
      "outputs": [
        {
          "output_type": "execute_result",
          "data": {
            "text/plain": [
              "<folium.folium.Map at 0x7e32870a14e0>"
            ],
            "text/html": [
              "<div style=\"width:100%;\"><div style=\"position:relative;width:100%;height:0;padding-bottom:60%;\"><span style=\"color:#565656\">Make this Notebook Trusted to load map: File -> Trust Notebook</span><iframe srcdoc=\"&lt;!DOCTYPE html&gt;\n",
              "&lt;html&gt;\n",
              "&lt;head&gt;\n",
              "    \n",
              "    &lt;meta http-equiv=&quot;content-type&quot; content=&quot;text/html; charset=UTF-8&quot; /&gt;\n",
              "    \n",
              "        &lt;script&gt;\n",
              "            L_NO_TOUCH = false;\n",
              "            L_DISABLE_3D = false;\n",
              "        &lt;/script&gt;\n",
              "    \n",
              "    &lt;style&gt;html, body {width: 100%;height: 100%;margin: 0;padding: 0;}&lt;/style&gt;\n",
              "    &lt;style&gt;#map {position:absolute;top:0;bottom:0;right:0;left:0;}&lt;/style&gt;\n",
              "    &lt;script src=&quot;https://cdn.jsdelivr.net/npm/leaflet@1.9.3/dist/leaflet.js&quot;&gt;&lt;/script&gt;\n",
              "    &lt;script src=&quot;https://code.jquery.com/jquery-3.7.1.min.js&quot;&gt;&lt;/script&gt;\n",
              "    &lt;script src=&quot;https://cdn.jsdelivr.net/npm/bootstrap@5.2.2/dist/js/bootstrap.bundle.min.js&quot;&gt;&lt;/script&gt;\n",
              "    &lt;script src=&quot;https://cdnjs.cloudflare.com/ajax/libs/Leaflet.awesome-markers/2.0.2/leaflet.awesome-markers.js&quot;&gt;&lt;/script&gt;\n",
              "    &lt;link rel=&quot;stylesheet&quot; href=&quot;https://cdn.jsdelivr.net/npm/leaflet@1.9.3/dist/leaflet.css&quot;/&gt;\n",
              "    &lt;link rel=&quot;stylesheet&quot; href=&quot;https://cdn.jsdelivr.net/npm/bootstrap@5.2.2/dist/css/bootstrap.min.css&quot;/&gt;\n",
              "    &lt;link rel=&quot;stylesheet&quot; href=&quot;https://netdna.bootstrapcdn.com/bootstrap/3.0.0/css/bootstrap.min.css&quot;/&gt;\n",
              "    &lt;link rel=&quot;stylesheet&quot; href=&quot;https://cdn.jsdelivr.net/npm/@fortawesome/fontawesome-free@6.2.0/css/all.min.css&quot;/&gt;\n",
              "    &lt;link rel=&quot;stylesheet&quot; href=&quot;https://cdnjs.cloudflare.com/ajax/libs/Leaflet.awesome-markers/2.0.2/leaflet.awesome-markers.css&quot;/&gt;\n",
              "    &lt;link rel=&quot;stylesheet&quot; href=&quot;https://cdn.jsdelivr.net/gh/python-visualization/folium/folium/templates/leaflet.awesome.rotate.min.css&quot;/&gt;\n",
              "    \n",
              "            &lt;meta name=&quot;viewport&quot; content=&quot;width=device-width,\n",
              "                initial-scale=1.0, maximum-scale=1.0, user-scalable=no&quot; /&gt;\n",
              "            &lt;style&gt;\n",
              "                #map_2ee37553e019276154c5ecddfce2ecc4 {\n",
              "                    position: relative;\n",
              "                    width: 100.0%;\n",
              "                    height: 100.0%;\n",
              "                    left: 0.0%;\n",
              "                    top: 0.0%;\n",
              "                }\n",
              "                .leaflet-container { font-size: 1rem; }\n",
              "            &lt;/style&gt;\n",
              "        \n",
              "&lt;/head&gt;\n",
              "&lt;body&gt;\n",
              "    \n",
              "    \n",
              "            &lt;div class=&quot;folium-map&quot; id=&quot;map_2ee37553e019276154c5ecddfce2ecc4&quot; &gt;&lt;/div&gt;\n",
              "        \n",
              "&lt;/body&gt;\n",
              "&lt;script&gt;\n",
              "    \n",
              "    \n",
              "            var map_2ee37553e019276154c5ecddfce2ecc4 = L.map(\n",
              "                &quot;map_2ee37553e019276154c5ecddfce2ecc4&quot;,\n",
              "                {\n",
              "                    center: [38.0, -106.0],\n",
              "                    crs: L.CRS.EPSG3857,\n",
              "                    zoom: 5,\n",
              "                    zoomControl: true,\n",
              "                    preferCanvas: false,\n",
              "                }\n",
              "            );\n",
              "\n",
              "            \n",
              "\n",
              "        \n",
              "    \n",
              "            var tile_layer_c0e7d9f1c099ac95e803fc2fd7fa11bd = L.tileLayer(\n",
              "                &quot;https://earthengine-highvolume.googleapis.com/v1/projects/gfsad-446404/maps/18d273fab0bd686d3de235dfea3d3022-0a78309145729b3467fc44c2878e1476/tiles/{z}/{x}/{y}&quot;,\n",
              "                {&quot;attribution&quot;: &quot;Map Data \\u0026copy; \\u003ca href=\\&quot;https://earthengine.google.com/\\&quot;\\u003eGoogle Earth Engine\\u003c/a\\u003e&quot;, &quot;detectRetina&quot;: false, &quot;maxNativeZoom&quot;: 18, &quot;maxZoom&quot;: 18, &quot;minZoom&quot;: 0, &quot;noWrap&quot;: false, &quot;opacity&quot;: 1, &quot;subdomains&quot;: &quot;abc&quot;, &quot;tms&quot;: false}\n",
              "            );\n",
              "        \n",
              "    \n",
              "            tile_layer_c0e7d9f1c099ac95e803fc2fd7fa11bd.addTo(map_2ee37553e019276154c5ecddfce2ecc4);\n",
              "        \n",
              "&lt;/script&gt;\n",
              "&lt;/html&gt;\" style=\"position:absolute;width:100%;height:100%;left:0;top:0;border:none !important;\" allowfullscreen webkitallowfullscreen mozallowfullscreen></iframe></div></div>"
            ]
          },
          "metadata": {},
          "execution_count": 9
        }
      ]
    },
    {
      "cell_type": "markdown",
      "source": [
        "## c. Build Image Stack"
      ],
      "metadata": {
        "id": "uKdC2bfQUqZ3"
      }
    },
    {
      "cell_type": "code",
      "source": [
        "import logging\n",
        "import datetime\n",
        "import ee\n",
        "\n",
        "states = ee.FeatureCollection(\"TIGER/2018/States\")\n",
        "S2 = ee.ImageCollection(\"COPERNICUS/S2_SR_HARMONIZED\")\n",
        "csPlus = ee.ImageCollection(\"GOOGLE/CLOUD_SCORE_PLUS/V1/S2_HARMONIZED\")\n",
        "GAEZ = ee.FeatureCollection(\"users/rmccormick314/gfsad30-raez-74zones\")\n",
        "GCEP1k = ee.Image(\"USGS/GFSAD1000_V1\")\n",
        "LGRIP30 = ee.Image(\"projects/usgs-gee-wgscflag/assets/LGRIP30USA2020/LGRIP30USA2020-smoothed70m\")\n",
        "ESA = ee.ImageCollection(\"ESA/WorldCover/v200\")\n",
        "\n",
        "# Setup logging\n",
        "logging.basicConfig(level=logging.INFO, format='%(asctime)s - %(message)s')\n",
        "logger = logging.getLogger()\n",
        "\n",
        "# Create a handler (e.g., to output to console)\n",
        "handler = logging.StreamHandler()\n",
        "handler.setLevel(logging.DEBUG)\n",
        "\n",
        "# Create a formatter and add it to the handler\n",
        "formatter = logging.Formatter('%(asctime)s - %(name)s - %(levelname)s - %(message)s')\n",
        "handler.setFormatter(formatter)\n",
        "\n",
        "# Add the handler to the logger\n",
        "logger.addHandler(handler)\n",
        "\n",
        "# Set the year and region\n",
        "YEAR_INT = int(YEAR)\n",
        "START_DATE = ee.Date( YEAR+\"-01-01\" )\n",
        "END_DATE = ee.Date( YEAR+\"-12-31\" )\n",
        "\n",
        "# Define the region of interest\n",
        "logger.info(\"Defining region of interest\")\n",
        "region = ee.FeatureCollection('users/rmccormick314/gfsad30-raez-74zones')\\\n",
        "    .filter(ee.Filter.eq(\"Zone\", \"8\"))\\\n",
        "    .geometry()\n",
        "\n",
        "# Validate the geometry\n",
        "if region == None:\n",
        "    raise ValueError(\"The defined region is empty. Please check the filter criteria.\")\n",
        "\n",
        "# Load and prepare the GCEP data\n",
        "logger.info(\"Preparing GCEP data\")\n",
        "GCEP = LGRIP30.clip(region)\n",
        "GCEP = GCEP.updateMask(GCEP.neq(0))\n",
        "\n",
        "# Load and process the Cropland Data Layer (CDL)\n",
        "logger.info(\"Preparing CDL data\")\n",
        "CDL = ee.Image(\"USDA/NASS/CDL/\"+YEAR).select(\"cropland\").clip(region)\n",
        "attribute_codes = [1, 2, 3, 4, 5, 6, 10, 11, 12, 13, 14, 21, 22, 23, 24, 25, 26, 27, 28, 29, 30, 31, 32, 33, 34, 35, 36, 37, 38, 39, 41, 42, 43, 44, 45, 46, 47, 48, 49, 50, 51, 52, 53, 54, 55, 56, 57, 58, 59, 60, 61, 63, 64, 65, 66, 67, 68, 69, 70, 71, 72, 74, 75, 76, 77, 81, 82, 83, 87, 88, 92, 111, 112, 121, 122, 123, 124, 131, 141, 142, 143, 152, 176, 190, 195, 204, 205, 206, 207, 208, 209, 210, 211, 212, 213, 214, 215, 216, 217, 218, 219, 220, 221, 222, 223, 224, 225, 226, 227, 228, 229, 230, 231, 232, 233, 234, 235, 236, 237, 238, 239, 240, 241, 242, 243, 244, 245, 246, 247, 248, 249, 250, 254]\n",
        "reclass_codes = [4, 4, 4, 4, 4, 4, 4, 4, 4, 4, 1, 4, 4, 4, 4, 4, 3, 4, 4, 4, 4, 4, 4, 4, 4, 4, 1, 1, 4, 4, 4, 4, 4, 4, 1, 4, 4, 4, 4, 4, 4, 4, 4, 4, 1, 1, 1, 1, 1, 1, 5, 6, 6, 6, 1, 1, 1, 1, 1, 1, 1, 1, 1, 1, 1, 6, 6, 6, 6, 6, 6, 6, 6, 6, 6, 6, 6, 6, 6, 6, 6, 6, 6, 6, 6, 1, 4, 4, 1, 4, 4, 1, 1, 1, 4, 4, 1, 4, 1, 1, 4, 1, 1, 4, 1, 4, 3, 3, 4, 3, 4, 3, 3, 3, 3, 3, 3, 3, 3, 3, 3, 3, 3, 1, 4, 4, 4, 4, 4, 4, 4, 1, 3]\n",
        "CDL = CDL.remap(attribute_codes, reclass_codes).rename([\"CropType\"]).updateMask(GCEP)\n",
        "\n",
        "\n",
        "geometry = ee.Geometry.Polygon([\n",
        "    [[-106.0, 37.0], [-106.0, 38.0], [-105.0, 38.0], [-105.0, 37.0], [-106.0, 37.0]]\n",
        "])\n",
        "\n",
        "# Load and process Sentinel-2 data\n",
        "logger.info(\"Preparing Sentinel-2 data\")\n",
        "S2 = ee.ImageCollection('COPERNICUS/S2_HARMONIZED')\\\n",
        "    .filterDate(START_DATE, END_DATE)\\\n",
        "    .filterBounds(region)\\\n",
        "    .map(lambda img: img.clip(region).updateMask(GCEP))\n"
      ],
      "metadata": {
        "id": "UStTEBz9UnMT"
      },
      "execution_count": 71,
      "outputs": []
    },
    {
      "cell_type": "code",
      "source": [
        "# Calculate NDVI for each image\n",
        "logger.info(\"Calculating NDVI\")\n",
        "def calculate_ndvi(image):\n",
        "    ndvi = image.normalizedDifference(['B8', 'B4']).rename('NDVI')\n",
        "    return image.addBands(ndvi)\n",
        "\n",
        "S2 = S2.map(calculate_ndvi).select('NDVI')\n",
        "\n",
        "# Temporal stacking\n",
        "logger.info(\"Creating temporal stacks\")\n",
        "def temporal_stack(dates):\n",
        "    def stack_period(date_range):\n",
        "        start, end = date_range\n",
        "        period_images = S2.filterDate(start, end)\n",
        "        mosaic = period_images.max() if period_images.size().getInfo() > 0 else ee.Image(0).rename('NDVI')\n",
        "        return mosaic\n",
        "\n",
        "    return ee.ImageCollection([stack_period(d) for d in dates])\n",
        "\n",
        "date_ranges = [\n",
        "    ('2020-03-01', '2020-03-31'), ('2020-04-01', '2020-04-30'),\n",
        "    ('2020-05-01', '2020-05-31'), ('2020-06-01', '2020-06-30'),\n",
        "]\n",
        "stacked_images = temporal_stack(date_ranges)\n",
        "stacked_image = stacked_images.toBands().clip(region)\n",
        "\n",
        "# Save or use image\n",
        "logger.info(\"Exporting image to Google Cloud Storage\")\n",
        "output_bucket = bucket\n",
        "output_project = project\n",
        "\n",
        "def export_to_bucket(image, bucket, region):\n",
        "    task = ee.batch.Export.image.toCloudStorage(\n",
        "        image=image,\n",
        "        description='stacked_image_export',\n",
        "        bucket=bucket,\n",
        "        fileNamePrefix='stacked_image',\n",
        "        region=region,  # Pass the GeoJSON bounding box\n",
        "        scale=30,\n",
        "        maxPixels=1e13\n",
        "    )\n",
        "    task.start()\n",
        "    logger.info(\"Export task started: %s\", task.id)\n",
        "\n",
        "export_to_bucket(stacked_image, output_bucket, region)\n",
        "logger.info(\"Script finished.\")\n"
      ],
      "metadata": {
        "id": "f6frjBEpaVzV"
      },
      "execution_count": 72,
      "outputs": []
    }
  ],
  "metadata": {
    "colab": {
      "provenance": [],
      "toc_visible": true,
      "include_colab_link": true
    },
    "kernelspec": {
      "display_name": "Python 3",
      "name": "python3"
    },
    "language_info": {
      "name": "python"
    }
  },
  "nbformat": 4,
  "nbformat_minor": 0
}